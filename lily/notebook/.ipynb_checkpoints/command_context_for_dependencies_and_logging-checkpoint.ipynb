{
 "cells": [
  {
   "cell_type": "code",
   "execution_count": 68,
   "metadata": {},
   "outputs": [
    {
     "name": "stdout",
     "output_type": "stream",
     "text": [
      "check\n",
      "check\n",
      "check\n",
      "check\n",
      "{'command': 'CREATE_CARD'}\n"
     ]
    }
   ],
   "source": [
    "import inspect\n",
    "\n",
    "\n",
    "def command(fn):\n",
    "    __lily_context = {'command': 'CREATE_CARD'}\n",
    "\n",
    "    return fn()\n",
    "\n",
    "\n",
    "class A:\n",
    "    \n",
    "    def command(self):\n",
    "        return client()\n",
    "\n",
    "\n",
    "def client():\n",
    "    print(get_lily_context())\n",
    "\n",
    "                \n",
    "def get_lily_context():\n",
    "    # -- only when testing\n",
    "    for f in inspect.stack():\n",
    "        print('check')\n",
    "        if f.function == 'command':\n",
    "            try:\n",
    "                return f.frame.f_locals['__lily_context']\n",
    "                \n",
    "            except KeyError:\n",
    "                pass\n",
    "                \n",
    "\n",
    "frame = command(A().command)    "
   ]
  },
  {
   "cell_type": "code",
   "execution_count": 56,
   "metadata": {},
   "outputs": [
    {
     "data": {
      "text/plain": [
       "'/home/maciej/projects/lily/.venv/lib/python3.6/site-packages/IPython/core/interactiveshell.py'"
      ]
     },
     "execution_count": 56,
     "metadata": {},
     "output_type": "execute_result"
    }
   ],
   "source": [
    "stack = inspect.stack()\n",
    "stack[1].filename"
   ]
  },
  {
   "cell_type": "code",
   "execution_count": null,
   "metadata": {},
   "outputs": [],
   "source": []
  }
 ],
 "metadata": {
  "kernelspec": {
   "display_name": "Python 3",
   "language": "python",
   "name": "python3"
  },
  "language_info": {
   "codemirror_mode": {
    "name": "ipython",
    "version": 3
   },
   "file_extension": ".py",
   "mimetype": "text/x-python",
   "name": "python",
   "nbconvert_exporter": "python",
   "pygments_lexer": "ipython3",
   "version": "3.6.5"
  }
 },
 "nbformat": 4,
 "nbformat_minor": 2
}
