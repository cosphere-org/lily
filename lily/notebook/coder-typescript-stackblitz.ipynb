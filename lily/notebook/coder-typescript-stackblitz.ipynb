{
 "cells": [
  {
   "cell_type": "code",
   "execution_count": 1,
   "metadata": {},
   "outputs": [],
   "source": [
    "import requests"
   ]
  },
  {
   "cell_type": "code",
   "execution_count": 6,
   "metadata": {},
   "outputs": [],
   "source": [
    "\n",
    "response = requests.post(\n",
    "    'https://stackblitz.com/run',\n",
    "    data={\n",
    "        \"project[files][index.ts]\": '''\n",
    "import { Observable } from 'rxjs/Observable';\n",
    "import 'rxjs/add/observable/fromEvent';\n",
    "import 'rxjs/add/operator/scan';\n",
    "\n",
    "var button = document.querySelector('button');\n",
    "Observable.fromEvent(button, 'click')\n",
    "  .scan((count: number) => count + 1, 0)\n",
    "  .subscribe(count => console.log(`Clicked ${count} times`));\n",
    "''',\n",
    "        \"project[files][index.html]\": \"<button>Click Me</button>\",\n",
    "        \"project[tags][]\": \"rxjs\",\n",
    "        \"project[tags][]\": \"example\",\n",
    "        \"project[tags][]\": \"tutorial\",\n",
    "        \"project[description]\": \"RxJS Example\",\n",
    "        \"project[dependencies]\": '{\"rxjs\":\"5.5.6\"}',\n",
    "        \"project[template]\": \"typescript\",\n",
    "        \"project[settings]\": '{\"compile\":{\"clearConsole\":false}}',\n",
    "    })"
   ]
  },
  {
   "cell_type": "code",
   "execution_count": 7,
   "metadata": {},
   "outputs": [],
   "source": [
    "from IPython.display import HTML"
   ]
  },
  {
   "cell_type": "code",
   "execution_count": 14,
   "metadata": {},
   "outputs": [
    {
     "name": "stdout",
     "output_type": "stream",
     "text": [
      "<!DOCTYPE html>\n",
      "<html lang=\"en\">\n",
      "<head>\n",
      "  <script>!function(){var analytics=window.analytics=window.analytics||[];if(!analytics.initialize)if(analytics.invoked)window.console&&console.error&&console.error(\"Segment snippet included twice.\");else{analytics.invoked=!0;analytics.methods=[\"trackSubmit\",\"trackClick\",\"trackLink\",\"trackForm\",\"pageview\",\"identify\",\"reset\",\"group\",\"track\",\"ready\",\"alias\",\"debug\",\"page\",\"once\",\"off\",\"on\"];analytics.factory=function(t){return function(){var e=Array.prototype.slice.call(arguments);e.unshift(t);analytics.push(e);return analytics}};for(var t=0;t<analytics.methods.length;t++){var e=analytics.methods[t];analytics[e]=analytics.factory(e)}analytics.load=function(t){var e=document.createElement(\"script\");e.type=\"text/javascript\";e.async=!0;e.src=(\"https:\"===document.location.protocol?\"https://\":\"http://\")+\"cdn.segment.com/analytics.js/v1/\"+t+\"/analytics.min.js\";var n=document.getElementsByTagName(\"script\")[0];n.parentNode.insertBefore(e,n)};analytics.SNIPPET_VERSION=\"4.0.0\";analytics.load(\"ta1kDK49qdEDEfd8KYxI37mW0GPkLKn1\");}}();</script>\n",
      "  <title>StackBlitz</title>\n",
      "  <meta charset=\"utf-8\">\n",
      "<script>window.NREUM||(NREUM={});NREUM.info={\"beacon\":\"bam.nr-data.net\",\"errorBeacon\":\"bam.nr-data.net\",\"licenseKey\":\"6292180984\",\"applicationID\":\"57763841\",\"transactionName\":\"cw5XTUYJVV5WRhsSRV8LXFpAFRZARlo=\",\"queueTime\":0,\"applicationTime\":117,\"agent\":\"\"}</script>\n",
      "<script>window.NREUM||(NREUM={}),__nr_require=function(e,n,t){function r(t){if(!n[t]){var o=n[t]={exports:{}};e[t][0].call(o.exports,function(n){var o=e[t][1][n];return r(o||n)},o,o.exports)}return n[t].exports}if(\"function\"==typeof __nr_require)return __nr_require;for(var o=0;o<t.length;o++)r(t[o]);return r}({1:[function(e,n,t){function r(){}function o(e,n,t){return function(){return i(e,[c.now()].concat(u(arguments)),n?null:this,t),n?void 0:this}}var i=e(\"handle\"),a=e(3),u=e(4),f=e(\"ee\").get(\"tracer\"),c=e(\"loader\"),s=NREUM;\"undefined\"==typeof window.newrelic&&(newrelic=s);var p=[\"setPageViewName\",\"setCustomAttribute\",\"setErrorHandler\",\"finished\",\"addToTrace\",\"inlineHit\",\"addRelease\"],d=\"api-\",l=d+\"ixn-\";a(p,function(e,n){s[n]=o(d+n,!0,\"api\")}),s.addPageAction=o(d+\"addPageAction\",!0),s.setCurrentRouteName=o(d+\"routeName\",!0),n.exports=newrelic,s.interaction=function(){return(new r).get()};var m=r.prototype={createTracer:function(e,n){var t={},r=this,o=\"function\"==typeof n;return i(l+\"tracer\",[c.now(),e,t],r),function(){if(f.emit((o?\"\":\"no-\")+\"fn-start\",[c.now(),r,o],t),o)try{return n.apply(this,arguments)}catch(e){throw f.emit(\"fn-err\",[arguments,this,e],t),e}finally{f.emit(\"fn-end\",[c.now()],t)}}}};a(\"actionText,setName,setAttribute,save,ignore,onEnd,getContext,end,get\".split(\",\"),function(e,n){m[n]=o(l+n)}),newrelic.noticeError=function(e){\"string\"==typeof e&&(e=new Error(e)),i(\"err\",[e,c.now()])}},{}],2:[function(e,n,t){function r(e,n){if(!o)return!1;if(e!==o)return!1;if(!n)return!0;if(!i)return!1;for(var t=i.split(\".\"),r=n.split(\".\"),a=0;a<r.length;a++)if(r[a]!==t[a])return!1;return!0}var o=null,i=null,a=/Version\\/(\\S+)\\s+Safari/;if(navigator.userAgent){var u=navigator.userAgent,f=u.match(a);f&&u.indexOf(\"Chrome\")===-1&&u.indexOf(\"Chromium\")===-1&&(o=\"Safari\",i=f[1])}n.exports={agent:o,version:i,match:r}},{}],3:[function(e,n,t){function r(e,n){var t=[],r=\"\",i=0;for(r in e)o.call(e,r)&&(t[i]=n(r,e[r]),i+=1);return t}var o=Object.prototype.hasOwnProperty;n.exports=r},{}],4:[function(e,n,t){function r(e,n,t){n||(n=0),\"undefined\"==typeof t&&(t=e?e.length:0);for(var r=-1,o=t-n||0,i=Array(o<0?0:o);++r<o;)i[r]=e[n+r];return i}n.exports=r},{}],5:[function(e,n,t){n.exports={exists:\"undefined\"!=typeof window.performance&&window.performance.timing&&\"undefined\"!=typeof window.performance.timing.navigationStart}},{}],ee:[function(e,n,t){function r(){}function o(e){function n(e){return e&&e instanceof r?e:e?f(e,u,i):i()}function t(t,r,o,i){if(!d.aborted||i){e&&e(t,r,o);for(var a=n(o),u=v(t),f=u.length,c=0;c<f;c++)u[c].apply(a,r);var p=s[y[t]];return p&&p.push([b,t,r,a]),a}}function l(e,n){h[e]=v(e).concat(n)}function m(e,n){var t=h[e];if(t)for(var r=0;r<t.length;r++)t[r]===n&&t.splice(r,1)}function v(e){return h[e]||[]}function g(e){return p[e]=p[e]||o(t)}function w(e,n){c(e,function(e,t){n=n||\"feature\",y[t]=n,n in s||(s[n]=[])})}var h={},y={},b={on:l,addEventListener:l,removeEventListener:m,emit:t,get:g,listeners:v,context:n,buffer:w,abort:a,aborted:!1};return b}function i(){return new r}function a(){(s.api||s.feature)&&(d.aborted=!0,s=d.backlog={})}var u=\"nr@context\",f=e(\"gos\"),c=e(3),s={},p={},d=n.exports=o();d.backlog=s},{}],gos:[function(e,n,t){function r(e,n,t){if(o.call(e,n))return e[n];var r=t();if(Object.defineProperty&&Object.keys)try{return Object.defineProperty(e,n,{value:r,writable:!0,enumerable:!1}),r}catch(i){}return e[n]=r,r}var o=Object.prototype.hasOwnProperty;n.exports=r},{}],handle:[function(e,n,t){function r(e,n,t,r){o.buffer([e],r),o.emit(e,n,t)}var o=e(\"ee\").get(\"handle\");n.exports=r,r.ee=o},{}],id:[function(e,n,t){function r(e){var n=typeof e;return!e||\"object\"!==n&&\"function\"!==n?-1:e===window?0:a(e,i,function(){return o++})}var o=1,i=\"nr@id\",a=e(\"gos\");n.exports=r},{}],loader:[function(e,n,t){function r(){if(!E++){var e=x.info=NREUM.info,n=l.getElementsByTagName(\"script\")[0];if(setTimeout(s.abort,3e4),!(e&&e.licenseKey&&e.applicationID&&n))return s.abort();c(y,function(n,t){e[n]||(e[n]=t)}),f(\"mark\",[\"onload\",a()+x.offset],null,\"api\");var t=l.createElement(\"script\");t.src=\"https://\"+e.agent,n.parentNode.insertBefore(t,n)}}function o(){\"complete\"===l.readyState&&i()}function i(){f(\"mark\",[\"domContent\",a()+x.offset],null,\"api\")}function a(){return O.exists&&performance.now?Math.round(performance.now()):(u=Math.max((new Date).getTime(),u))-x.offset}var u=(new Date).getTime(),f=e(\"handle\"),c=e(3),s=e(\"ee\"),p=e(2),d=window,l=d.document,m=\"addEventListener\",v=\"attachEvent\",g=d.XMLHttpRequest,w=g&&g.prototype;NREUM.o={ST:setTimeout,SI:d.setImmediate,CT:clearTimeout,XHR:g,REQ:d.Request,EV:d.Event,PR:d.Promise,MO:d.MutationObserver};var h=\"\"+location,y={beacon:\"bam.nr-data.net\",errorBeacon:\"bam.nr-data.net\",agent:\"js-agent.newrelic.com/nr-1099.min.js\"},b=g&&w&&w[m]&&!/CriOS/.test(navigator.userAgent),x=n.exports={offset:u,now:a,origin:h,features:{},xhrWrappable:b,userAgent:p};e(1),l[m]?(l[m](\"DOMContentLoaded\",i,!1),d[m](\"load\",r,!1)):(l[v](\"onreadystatechange\",o),d[v](\"onload\",r)),f(\"mark\",[\"firstbyte\",u],null,\"api\");var E=0,O=e(5)},{}]},{},[\"loader\"]);</script>\n",
      "  <meta name=\"turbolinks-cache-control\" content=\"no-cache\">\n",
      "  <meta name=\"viewport\" content=\"width=device-width, initial-scale=1.0, maximum-scale=1.0, user-scalable=no\" />\n",
      "  <meta name=\"action-cable-url\" content=\"https://wss.stackblitz.com/cable\" />\n",
      "  \n",
      "  <meta name=\"og:image\" content=\"https://c.staticblitz.com/assets/icon-664493542621427cc8adae5e8f50d632f87aaa6ea1ce5b01e9a3d05b57940a9f.png\">\n",
      "  \n",
      "  <meta name=\"twitter:image\" content=\"https://c.staticblitz.com/assets/icon-664493542621427cc8adae5e8f50d632f87aaa6ea1ce5b01e9a3d05b57940a9f.png\">\n",
      "  <meta name=\"twitter:site\" content=\"@StackBlitz\">\n",
      "  \n",
      "  <link rel=\"icon\" type=\"image/png\" href=\"https://c.staticblitz.com/assets/favicon-6a6da88dda7db08ce15df2be392e715b941d78d1487ce9b05f31e2f8e40d9443.png\">\n",
      "  <link rel=\"apple-touch-icon\" href=\"https://c.staticblitz.com/assets/icon-664493542621427cc8adae5e8f50d632f87aaa6ea1ce5b01e9a3d05b57940a9f.png\">\n",
      "  \n",
      "\n",
      "  <link href=\"https://fonts.googleapis.com/css?family=Lato:300,300i,400,400i,700,700i,900,900i\" rel=\"stylesheet\">\n",
      "  <link href=\"https://cdnjs.cloudflare.com/ajax/libs/ionicons/2.0.1/css/ionicons.min.css\" rel=\"stylesheet\">\n",
      "  <link href=\"https://cdnjs.cloudflare.com/ajax/libs/normalize/6.0.0/normalize.min.css\" rel=\"stylesheet\">\n",
      "  <link href=\"https://cdnjs.cloudflare.com/ajax/libs/intro.js/2.5.0/introjs.min.css\" rel=\"stylesheet\">\n",
      "  <link rel=\"stylesheet\" media=\"all\" href=\"https://c.staticblitz.com/assets/application-3e5c6a0ebb73c10907eb2c0dd9ef3457029d19b097f7ff9cd52b2b914f909c7a.css\" data-turbolinks-track=\"reload\" />\n",
      "  <link rel=\"stylesheet\" media=\"all\" href=\"https://c.staticblitz.com/assets/client-6b6f8b4f09dd50ad49392d3371ce91eb.css\" data-turbolinks-track=\"reload\" />\n",
      "  <script src=\"https://c.staticblitz.com/assets/application-e75f7174b5a4c8253e658b8942a140ba0f706aed64171b7c97c094ddf8189820.js\" data-turbolinks-track=\"reload\"></script>\n",
      "  <script src=\"https://cdnjs.cloudflare.com/ajax/libs/monaco-editor/0.14.3/min/vs/loader.js\"></script>\n",
      "  <script src=\"https://c.staticblitz.com/assets/common-d61382ddd31825bfa75ca.js\" data-turbolinks-track=\"reload\"></script>\n",
      "  <script src=\"https://c.staticblitz.com/assets/ext-bbce42517d523b196c19a.js\" data-turbolinks-track=\"reload\"></script>\n",
      "  <script src=\"https://c.staticblitz.com/assets/client-9f90f655880542f849cba.js\" data-turbolinks-track=\"reload\"></script>\n",
      "</head>\n",
      "<body>\n",
      "  <script>Analytics.page();</script>\n",
      "  <script type=\"application/json\" class=\"js-react-on-rails-component\" data-component-name=\"App\" data-dom-id=\"App-react-component-2b0df86c-e8db-41d9-94c2-f090b081e79a\">{}</script>\n",
      "    <div id=\"App-react-component-2b0df86c-e8db-41d9-94c2-f090b081e79a\"></div>\n",
      "    \n",
      "\n",
      "<style>\n",
      "body {\n",
      "  background: #333333;\n",
      "}\n",
      "</style>\n",
      "\n",
      "  <script type=\"application/json\" data-js-react-on-rails-store=\"appStore\">{\"auth\":{\"loggedIn\":false,\"user\":{},\"guest\":{\"id\":\"c4a79c74-d24d-483c-9acb-51336514bcfa\"}},\"project\":{\"id\":null,\"appFiles\":{\"index.ts\":{\"fullPath\":\"index.ts\",\"name\":\"index.ts\",\"lastModified\":0,\"type\":\"file\",\"contents\":\"\\nimport { Observable } from 'rxjs/Observable';\\nimport 'rxjs/add/observable/fromEvent';\\nimport 'rxjs/add/operator/scan';\\n\\nvar button = document.querySelector('button');\\nObservable.fromEvent(button, 'click')\\n  .scan((count: number) =\\u003e count + 1, 0)\\n  .subscribe(count =\\u003e console.log(`Clicked ${count} times`));\\n\"},\"index.html\":{\"fullPath\":\"index.html\",\"name\":\"index.html\",\"lastModified\":0,\"type\":\"file\",\"contents\":\"\\u003cbutton\\u003eClick Me\\u003c/button\\u003e\"}},\"dependencies\":{\"jpack\":{\"appDependencies\":{\"rxjs\":{\"version\":\"5.5.6\",\"dependencies\":{\"symbol-observable\":\"symbol-observable@1.0.1\"},\"main\":\"./Rx.js\",\"typings\":\"./Rx.d.ts\"}},\"resDependencies\":{\"symbol-observable@1.0.1\":{\"dependencies\":{},\"typings\":\"index.d.ts\"}},\"warnings\":{}},\"externalDeps\":[],\"externalResources\":[]},\"manifest\":{\"entrypoint\":\"index.ts\",\"htmlTemplate\":\"index.html\",\"scriptLanguage\":{\"type\":\"typescript\",\"options\":{\"compilerOptions\":{\"emitDecoratorMetadata\":true,\"experimentalDecorators\":true}},\"defaultExtension\":\"ts\"},\"supportedExtensions\":{\"md\":{\"adapter\":\"text\",\"loaders\":[]},\"ts\":{\"adapter\":\"script\",\"loaders\":[\"angular2-template-loader\"]},\"css\":{\"adapter\":\"stylesheet\",\"loaders\":[]},\"html\":{\"adapter\":\"text\",\"loaders\":[]},\"json\":{\"adapter\":\"json\",\"loaders\":[]},\"less\":{\"adapter\":\"stylesheet\",\"loaders\":[]},\"sass\":{\"adapter\":\"stylesheet\",\"loaders\":[]},\"scss\":{\"adapter\":\"stylesheet\",\"loaders\":[]}}},\"currentAppFile\":\"index.ts\",\"slug\":\"2n9j6w.run\",\"username\":null,\"guestId\":null,\"description\":\"RxJS Example\",\"forks\":0,\"views\":0,\"preset\":\"typescript\",\"settings\":{\"compile\":{\"trigger\":\"auto\",\"action\":\"hmr\",\"clearConsole\":false}}},\"config\":{\"iframeUrl\":\"https://2n9j6w.run.stackblitz.io\",\"relayUrl\":\"https://2n9j6w.run.stackblitz.io/_relay_\",\"exportGithubUrl\":\"\",\"servicesUrl\":\"https://services.stackblitz.com\",\"tswUrl\":\"https://c.staticblitz.com/assets/mtsw-8db4ec3dedc39c9bfe76a.js\",\"editorUrl\":\"https://stackblitz.com/run\",\"appInitialized\":false,\"run\":true},\"features\":{}}</script>\n",
      "</body>\n",
      "</html>\n",
      "\n"
     ]
    }
   ],
   "source": [
    "print(response.content.decode('utf8'))"
   ]
  },
  {
   "cell_type": "code",
   "execution_count": null,
   "metadata": {},
   "outputs": [],
   "source": []
  }
 ],
 "metadata": {
  "kernelspec": {
   "display_name": "Python 3",
   "language": "python",
   "name": "python3"
  },
  "language_info": {
   "codemirror_mode": {
    "name": "ipython",
    "version": 3
   },
   "file_extension": ".py",
   "mimetype": "text/x-python",
   "name": "python",
   "nbconvert_exporter": "python",
   "pygments_lexer": "ipython3",
   "version": "3.6.5"
  }
 },
 "nbformat": 4,
 "nbformat_minor": 2
}
